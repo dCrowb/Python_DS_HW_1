{
 "cells": [
  {
   "cell_type": "code",
   "execution_count": 10,
   "id": "7c818911-4044-45d1-8efa-44f6c8bc2c18",
   "metadata": {},
   "outputs": [],
   "source": [
    "import numpy as np"
   ]
  },
  {
   "cell_type": "code",
   "execution_count": 11,
   "id": "92cab8f5-c053-4e44-8ae8-9dcfd301e899",
   "metadata": {},
   "outputs": [
    {
     "name": "stdout",
     "output_type": "stream",
     "text": [
      "[0 1 2 3 4 5 6 7 8 9]\n"
     ]
    }
   ],
   "source": [
    "#1. Створіть одновимірний масив (вектор) з першими 10-ма натуральними числами та виведіть його значення.\n",
    "vector = np.arange(10)\n",
    "print(vector)"
   ]
  },
  {
   "cell_type": "code",
   "execution_count": 12,
   "id": "bfd74466-b256-4a66-bed2-8edfadcb42ef",
   "metadata": {},
   "outputs": [
    {
     "name": "stdout",
     "output_type": "stream",
     "text": [
      "[[0. 0. 0.]\n",
      " [0. 0. 0.]\n",
      " [0. 0. 0.]]\n"
     ]
    }
   ],
   "source": [
    "#2. Створіть двовимірний масив (матрицю) розміром 3x3, заповніть його нулями та виведіть його значення.\n",
    "a_matrix = np.zeros((3,3))\n",
    "print(a_matrix)"
   ]
  },
  {
   "cell_type": "code",
   "execution_count": 13,
   "id": "e351cc21-298c-4f3f-986b-b19037b9bf4e",
   "metadata": {},
   "outputs": [
    {
     "name": "stdout",
     "output_type": "stream",
     "text": [
      "[[ 2  4  7 10  2]\n",
      " [10  5  4  7  4]\n",
      " [ 4  1  5  5  1]\n",
      " [ 6  9  6  6 10]\n",
      " [ 4  8  6  6 10]]\n"
     ]
    }
   ],
   "source": [
    "#3. Створіть масив розміром 5x5, заповніть його випадковими цілими числами в діапазоні від 1 до 10 та виведіть його значення.\n",
    "b_matrix = np.random.randint(1, 11, size=(5,5))\n",
    "print(b_matrix)"
   ]
  },
  {
   "cell_type": "code",
   "execution_count": 14,
   "id": "afde921c-3720-4b8a-bea0-493fbb87e230",
   "metadata": {},
   "outputs": [
    {
     "name": "stdout",
     "output_type": "stream",
     "text": [
      "[[0.60857955 0.8849073  0.91542405 0.46648193]\n",
      " [0.74606419 0.0057282  0.59299912 0.90427616]\n",
      " [0.4474854  0.09736123 0.20922464 0.40054446]\n",
      " [0.55604382 0.4235939  0.3741735  0.38089869]]\n"
     ]
    }
   ],
   "source": [
    "#4. Створіть масив розміром 4x4, заповніть його випадковими дійсними числами в діапазоні від 0 до 1 та виведіть його значення.\n",
    "c_matrix = np.random.rand(4,4)\n",
    "print(c_matrix)"
   ]
  },
  {
   "cell_type": "code",
   "execution_count": 15,
   "id": "e23dd18b",
   "metadata": {},
   "outputs": [
    {
     "name": "stdout",
     "output_type": "stream",
     "text": [
      "[13  5 10  9 16]\n",
      "[-5  1 -4 -3  0]\n",
      "[36  6 21 18 64]\n"
     ]
    }
   ],
   "source": [
    "#5. Створіть два одновимірних масиви розміром 5, заповніть їх випадковими цілими числами в діапазоні від 1 до 10 та виконайте на них поелементні операції додавання, віднімання та множення.\n",
    "array_a = np.random.randint(1, 11, 5)\n",
    "array_b = np.random.randint(1, 11, 5)\n",
    "\n",
    "\n",
    "addition = array_a + array_b\n",
    "subtraction = array_a - array_b\n",
    "multiplication = array_a * array_b\n",
    "print(addition)\n",
    "print(subtraction)\n",
    "print(multiplication)"
   ]
  },
  {
   "cell_type": "code",
   "execution_count": 16,
   "id": "9dfa0a70",
   "metadata": {},
   "outputs": [
    {
     "name": "stdout",
     "output_type": "stream",
     "text": [
      "10\n"
     ]
    }
   ],
   "source": [
    "#6. Створіть два вектори розміром 7, заповніть довільними числами та знайдіть їх скалярний добуток.\n",
    "array_a = np.random.randint(7)\n",
    "array_b = np.random.randint(7)\n",
    "result = np.dot(array_a, array_b)\n",
    "print(result)"
   ]
  },
  {
   "cell_type": "code",
   "execution_count": 17,
   "id": "bacb6ce4",
   "metadata": {},
   "outputs": [
    {
     "name": "stdout",
     "output_type": "stream",
     "text": [
      "[[54 60 72]\n",
      " [40 44 56]]\n"
     ]
    }
   ],
   "source": [
    "#7. Створіть дві матриці розміром 2x2 та 2x3, заповніть їх випадковими цілими числами в діапазоні від 1 до 10 та перемножте їх між собою.\n",
    "matrix_a = np.random.randint(1, 11, size=(2,2))\n",
    "matrix_b = np.random.randint(1, 11, size=(2,3))\n",
    "result = np.dot(matrix_a, matrix_b)\n",
    "print(result)"
   ]
  },
  {
   "cell_type": "code",
   "execution_count": 18,
   "id": "d5f834ba",
   "metadata": {},
   "outputs": [
    {
     "name": "stdout",
     "output_type": "stream",
     "text": [
      "[[-0.75   0.5  ]\n",
      " [ 0.625 -0.25 ]]\n"
     ]
    }
   ],
   "source": [
    "#8. Створіть матрицю розміром 3x3, заповніть її випадковими цілими числами в діапазоні від 1 до 10 та знайдіть її обернену матрицю.\n",
    "matrix = np.random.randint(1, 11, size=(2,2))\n",
    "result = np.linalg.inv(matrix)\n",
    "print(result)"
   ]
  },
  {
   "cell_type": "code",
   "execution_count": 19,
   "id": "2483fc2a",
   "metadata": {},
   "outputs": [
    {
     "name": "stdout",
     "output_type": "stream",
     "text": [
      "[[0.30491654 0.52588933 0.27651512 0.70799519]\n",
      " [0.72531862 0.41891967 0.81748412 0.72751502]\n",
      " [0.68143912 0.7482624  0.96448347 0.29110972]\n",
      " [0.80087801 0.26124555 0.83250406 0.77889179]]\n"
     ]
    }
   ],
   "source": [
    "#9. Створіть матрицю розміром 4x4, заповніть її випадковими дійсними числами в діапазоні від 0 до 1 та транспонуйте її.\n",
    "matrix = np.random.rand(4,4) \n",
    "print(matrix.T)"
   ]
  },
  {
   "cell_type": "code",
   "execution_count": 20,
   "id": "ee1abfd5",
   "metadata": {},
   "outputs": [
    {
     "name": "stdout",
     "output_type": "stream",
     "text": [
      "[104 231 198]\n"
     ]
    }
   ],
   "source": [
    "#10. Створіть матрицю розміром 3x4 та вектор розміром 4, заповніть їх випадковими цілими числами в діапазоні від 1 до 10 та перемножте матрицю на вектор.\n",
    "matrix = np.random.randint(1, 11, size=(3,4))\n",
    "array = np.random.randint(1, 11, size=4)\n",
    "result = np.dot(matrix, array)\n",
    "print(result)"
   ]
  },
  {
   "cell_type": "code",
   "execution_count": 21,
   "id": "b9238181",
   "metadata": {},
   "outputs": [
    {
     "name": "stdout",
     "output_type": "stream",
     "text": [
      "[0.4990178  0.88030317]\n"
     ]
    }
   ],
   "source": [
    "#11. Створіть матрицю розміром 2x3 та вектор розміром 3, заповніть їх випадковими дійсними числами в діапазоні від 0 до 1 та перемножте матрицю на вектор.\n",
    "matrix = np.random.rand(2,3)\n",
    "array = np.random.rand(3)\n",
    "result = np.dot(matrix, array)\n",
    "print(result)"
   ]
  },
  {
   "cell_type": "code",
   "execution_count": 22,
   "id": "8e67fc5c",
   "metadata": {},
   "outputs": [
    {
     "name": "stdout",
     "output_type": "stream",
     "text": [
      "[[42 16]\n",
      " [56  9]]\n"
     ]
    }
   ],
   "source": [
    "#12. Створіть дві матриці розміром 2x2, заповніть їх випадковими цілими числами в діапазоні від 1 до 10 та виконайте їхнє поелементне множення.\n",
    "matrix_a = np.random.randint(1, 11, size=(2,2))\n",
    "matrix_b = np.random.randint(1, 11, size=(2,2))\n",
    "result = matrix_a * matrix_b\n",
    "print(result)\n"
   ]
  },
  {
   "cell_type": "code",
   "execution_count": 23,
   "id": "79ba8e50",
   "metadata": {},
   "outputs": [
    {
     "name": "stdout",
     "output_type": "stream",
     "text": [
      "[[84 63]\n",
      " [80 65]]\n"
     ]
    }
   ],
   "source": [
    "#13. Створіть дві матриці розміром 2x2, заповніть їх випадковими цілими числами в діапазоні від 1 до 10 та знайдіть їх добуток.\n",
    "matrix_a = np.random.randint(1, 11, size=(2,2))\n",
    "matrix_b = np.random.randint(1, 11, size=(2,2))\n",
    "result = np.dot(matrix_a, matrix_b)\n",
    "print(result)"
   ]
  },
  {
   "cell_type": "code",
   "execution_count": 24,
   "id": "62156a9c",
   "metadata": {},
   "outputs": [
    {
     "name": "stdout",
     "output_type": "stream",
     "text": [
      "[[ 91  79  76  96  61]\n",
      " [ 87  65  18  69  38]\n",
      " [ 47  72  65   7  70]\n",
      " [ 38  75  42  98  26]\n",
      " [ 17  46  68 100  95]]\n"
     ]
    }
   ],
   "source": [
    "#14. Створіть матрицю розміром 5x5, заповніть її випадковими цілими числами в діапазоні від 1 до 100 та знайдіть суму елементів матриці.\n",
    "matrix = np.random.randint(1, 101, size=(5,5))\n",
    "result = np.sum(matrix)\n",
    "print(matrix)"
   ]
  },
  {
   "cell_type": "code",
   "execution_count": 25,
   "id": "cc32b7d1",
   "metadata": {},
   "outputs": [
    {
     "name": "stdout",
     "output_type": "stream",
     "text": [
      "[[ 1 -9 -3 -4]\n",
      " [ 1 -4  5  2]\n",
      " [-2  5 -2 -2]\n",
      " [-2  5  7  7]]\n"
     ]
    }
   ],
   "source": [
    "#15. Створіть дві матриці розміром 4x4, заповніть їх випадковими цілими числами в діапазоні від 1 до 10 та знайдіть їхню різницю.\n",
    "matrix_a = np.random.randint(1, 11, size=(4,4))\n",
    "matrix_b = np.random.randint(1, 11, size=(4,4))\n",
    "result = matrix_a - matrix_b\n",
    "print(result)"
   ]
  },
  {
   "cell_type": "code",
   "execution_count": 26,
   "id": "fd74edfb",
   "metadata": {},
   "outputs": [
    {
     "name": "stdout",
     "output_type": "stream",
     "text": [
      "[[403]\n",
      " [277]\n",
      " [261]\n",
      " [279]\n",
      " [326]]\n"
     ]
    }
   ],
   "source": [
    "#16. Створіть матрицю розміром 3x3, заповніть її випадковими дійсними числами в діапазоні від 0 до 1 та знайдіть вектор-стовпчик, що містить суму елементів кожного рядка матриці.\n",
    "matrix_b = np.random.rand(3,3)\n",
    "result= matrix.sum(axis=1).reshape(-1, 1)\n",
    "print(result)"
   ]
  },
  {
   "cell_type": "code",
   "execution_count": 31,
   "id": "3d7029ad",
   "metadata": {},
   "outputs": [
    {
     "name": "stdout",
     "output_type": "stream",
     "text": [
      "[[ 42025  79524 788544 289444]\n",
      " [ 64516 938961 962361 739600]\n",
      " [ 14641  29584  88804 146689]]\n"
     ]
    }
   ],
   "source": [
    "#17. Створіть матрицю розміром 3x4 з довільними цілими числами і створінь матрицю з квадратами цих чисел.\n",
    "matrix = np.random.randint(low=0, high=1000, size=(3,4))\n",
    "result = np.square(matrix)\n",
    "print(result)"
   ]
  },
  {
   "cell_type": "code",
   "execution_count": 32,
   "id": "fdc8f83c",
   "metadata": {},
   "outputs": [
    {
     "name": "stdout",
     "output_type": "stream",
     "text": [
      "[2.         4.89897949 5.47722558 4.35889894]\n"
     ]
    }
   ],
   "source": [
    "#18. Створіть вектор розміром 4, заповніть його випадковими цілими числами в діапазоні від 1 до 50 та знайдіть вектор з квадратними коренями цих чисел.\n",
    "array = np.random.randint(1, 51, size=4)\n",
    "result = np.sqrt(array)\n",
    "print(result)"
   ]
  }
 ],
 "metadata": {
  "kernelspec": {
   "display_name": "Python 3 (ipykernel)",
   "language": "python",
   "name": "python3"
  },
  "language_info": {
   "codemirror_mode": {
    "name": "ipython",
    "version": 3
   },
   "file_extension": ".py",
   "mimetype": "text/x-python",
   "name": "python",
   "nbconvert_exporter": "python",
   "pygments_lexer": "ipython3",
   "version": "3.11.3"
  }
 },
 "nbformat": 4,
 "nbformat_minor": 5
}
